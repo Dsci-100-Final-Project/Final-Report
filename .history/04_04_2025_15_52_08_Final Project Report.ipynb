{
 "cells": [
  {
   "cell_type": "markdown",
   "id": "46d0136a-385a-4433-a974-89ccda96a48d",
   "metadata": {},
   "source": [
    "# Project Final Report\n"
   ]
  },
  {
   "cell_type": "markdown",
   "id": "a4dc0e97-ffdd-4886-be8b-db7353db8ae7",
   "metadata": {},
   "source": [
    "# Testing"
   ]
  },
  {
   "cell_type": "markdown",
   "id": "c19e6ae9-e52c-495a-a657-dae9ba5add74",
   "metadata": {},
   "source": [
    "**Predicting Subscription \n",
    "Habits based on Age and Played Hours in a Minecraft Server**\n",
    "\n",
    "Samantha Cham, Daha Choi, Trini Laughlen, and Madeline Miles"
   ]
  },
  {
   "cell_type": "markdown",
   "id": "0f29d3f4-42db-4109-9f11-89ed38909719",
   "metadata": {},
   "source": [
    "### Introduction\n"
   ]
  },
  {
   "cell_type": "markdown",
   "id": "7e3d44bf-7cd9-46e0-b8b0-241f1d765f2a",
   "metadata": {},
   "source": [
    "Today, we are going to be analyzing a dataset, from a research group in Computer Science at UBC, led by Frank Wood. This dataset contains information about players in a particular MineCraft Server, from the player's age to total number of hours played. Using this dataset, we are aiming to answer the following question: \n",
    "\n",
    "Can age and total played hours predict if the player is subscribed to a game-related news article?\n",
    "\n",
    "To answer this question, we used the players.csv dataset:\n",
    "\n",
    "*players.csv* (196 observations, 7 variables):  \n",
    "\n",
    "•  *Experience Level* (factor): Categorizes players based on skill level (e.g., Beginner, Amateur, Pro).  \n",
    "•  *Subscription Status* (logical): Indicates whether the player is subscribed to the newsletter (TRUE/FALSE).  \n",
    "•  *Hashed Email* (string): Unique identifier for each player.  \n",
    "•  *Total Hours Played* (double): The total number of hours the player has spent in-game.  \n",
    "•  *First Name* (string): The player's in-game or registered first name.  \n",
    "•  *Gender* (string): Self-reported gender identity.  \n",
    "•  *Age* (integer): The player's age in years.  \n",
    "\n",
    "\n",
    "*Summary Statistics:*\n",
    "•  *Played Hours:* Mean = 5.85, Min = 0, Max = 223.1 \n",
    "•  *Age:* Mean = 20.52, Min = 8, Max = 50 \n",
    "•  *Subscription Rate:* 73.47% \n",
    "•  *Experience Level Distribution:* 17.86% Beginner, 32.14% Amateur, 18.37% Regular, 24.49% Veteran, 7.14% Pro \n",
    "\n",
    "\n",
    "*Some Issues we may deal with:*\n",
    "•  Inconsistent variable naming (hashedEmail in camelCase vs. played_hours in snake_case).\n",
    "•  Capitalization inconsistency (Age vs. gender).\n",
    "•  Some categorical groups are very small."
   ]
  },
  {
   "cell_type": "markdown",
   "id": "1bedd9c0-3c0b-460b-b006-11b95eef274b",
   "metadata": {},
   "source": [
    "### Methods\n"
   ]
  },
  {
   "cell_type": "code",
   "execution_count": null,
   "id": "6c3cdeca-dbd2-47fc-b223-a1007b8aa7c7",
   "metadata": {},
   "outputs": [],
   "source": [
    "#load libraries needed\n",
    "library(tidyverse)\n",
    "library(repr)\n",
    "library(tidymodels)\n",
    "options(repr.matrix.max.rows = 6)\n",
    "\n",
    "#set the seed to make the process reproducible\n",
    "set.seed(2025)\n",
    "\n",
    "#read in data\n",
    "players<-read_csv('https://raw.githubusercontent.com/madeline1312/toy_ds_project/refs/heads/main/players.csv')|>\n",
    "mutate(subscribe=as_factor(subscribe))|>#made as a factor so we can build our classification model\n",
    "select(Age, played_hours, subscribe)|># We can see NA's in the data, so we have to remove them to bind_cols later\n",
    "drop_na()\n",
    "players\n"
   ]
  },
  {
   "cell_type": "code",
   "execution_count": null,
   "id": "6ec88364-8148-4635-af53-04cc7f24b4c0",
   "metadata": {},
   "outputs": [],
   "source": [
    "#find the summary statistics of what we are looking at so we know what our scales are for the predictors\n",
    "players_stats<-players|>\n",
    "mutate(mean_age=mean(Age,na.rm=TRUE))|>\n",
    "mutate(min_age=min(Age,na.rm=TRUE))|>\n",
    "mutate(max_age=max(Age, na.rm=TRUE))|>\n",
    "mutate(min_played_hours=min(played_hours))|>\n",
    "mutate(max_played_hours=max(played_hours))|>\n",
    "mutate(mean_played_hours=mean(played_hours))|> \n",
    "select(mean_age, min_age, max_age, min_played_hours, max_played_hours, mean_played_hours)|> \n",
    "slice(1)\n",
    "players_stats\n"
   ]
  },
  {
   "cell_type": "markdown",
   "id": "507410ad-5834-432b-89d2-536cd776b3e0",
   "metadata": {},
   "source": [
    "In our analysis in finding a summary of the data set that is needed for our analysis we found that the minimum age of a player is 8 the max age is 50 and the mean age is 20.5. This shows that since we have such a variety of ages and a large age range we have to center and scale our data in order for the model to be accurate when making predictions.\n",
    "The analysis found that the minmimum number of players hours is 0, while the max is 223.1 hours and the average is 5.9 hours. This tells us that since the range is so wide we have to center and scale our data so that it is given the same weight as the age of the player, when used to predict the subscribtion habits of a player. "
   ]
  },
  {
   "cell_type": "code",
   "execution_count": null,
   "id": "71451e69-b4e8-47d5-9ac2-5a95ce3cecc3",
   "metadata": {},
   "outputs": [],
   "source": [
    "options(repr.plot.width = 10, repr.plot.height = 8) \n",
    "players_plot<-players|>\n",
    "ggplot(aes(x=played_hours, y=Age, colour=subscribe))+\n",
    "geom_point(alpha=0.8)+\n",
    "labs(y=\"Player's Age\", x=\"Total Played Hours\", \n",
    "     colour=\"Subscribed to a game related newsletter?\")+\n",
    "ggtitle(\"Figure 1: Age, hours played, and subscription plot\")+\n",
    "scale_x_log10()+\n",
    "theme(text = element_text(size = 12))\n",
    "\n",
    "players_plot\n"
   ]
  },
  {
   "cell_type": "markdown",
   "id": "a9b0f7eb-bb97-4270-98e3-5bccffbd6f74",
   "metadata": {},
   "source": [
    "This plot shows all three variables that we are considering together, and there appears to be no direct correlation between the amount of hours played on the server along with the players age to their subscrbtion habits to a game related newsletter. It can be seen that many of the played hours come from the younger players around our mean age, and that the players who are subscribed to a game-related newsletter often have more playing hours than the ones who aren't subscribed to a game related newsletter. We chose to make a scatter plot bevcause we are comparing two variables that are numeric so it is easiest to compare them on a scatterplot, and we used the colour to show our class of subscription to see if there was a correlation. \n",
    "\n",
    "We should look at each predcitor we will use to see if their is a correlation and find what we can expect the outcome to be from there. "
   ]
  },
  {
   "cell_type": "code",
   "execution_count": null,
   "id": "46f3032b-ff8b-4cce-9366-5867033c1bbd",
   "metadata": {},
   "outputs": [],
   "source": [
    "Age_plot<-players|>\n",
    "ggplot(aes(x=Age, fill=subscribe))+\n",
    "geom_bar()+\n",
    "labs(x=\"Player's Age\", y=\"Portion of that age group subscribed to a newsletter\", \n",
    "     fill=\"Subscribed to a game related newsletter?\")+\n",
    "ggtitle(\"Figure 2: Players Age vs Subscription\")+\n",
    "theme(text = element_text(size = 12))\n",
    "Age_plot\n"
   ]
  },
  {
   "cell_type": "markdown",
   "id": "b1713763-6256-4ec5-9b92-1b51683f0a9e",
   "metadata": {},
   "source": [
    "This plot shows the players age vs their subscribtion habits to a game related newsletter. We can see a trend here that the younger a player is the more likely they are to subscribe to a game related newsletter, but there are a few outliers in this graph as well. We chose a bar graph because we are comparing a numerical variable (Age), and the percentage of people who are subscribed to a newsletter, which is represented by the colour. "
   ]
  },
  {
   "cell_type": "code",
   "execution_count": null,
   "id": "2b93c3a4-c046-4298-8bee-577846851cb4",
   "metadata": {},
   "outputs": [],
   "source": [
    "#This plot shows hours played vs Subsription\n",
    "played_plot<-players|>\n",
    "ggplot(aes(x=played_hours, fill=subscribe))+\n",
    "geom_histogram()+\n",
    "labs(y=\"Number of players subscribed to a newsletter\", x=\"Total Played Hours\", \n",
    "     fill=\"Subscribed to a game related newsletter?\")+\n",
    "ggtitle(\"Figure 3: Hours Played vs Subscription\")+\n",
    "scale_x_log10()+\n",
    "theme(text = element_text(size = 12))\n",
    "played_plot\n"
   ]
  },
  {
   "cell_type": "markdown",
   "id": "24edf892-8033-4ee2-bd7d-813fd195ac40",
   "metadata": {},
   "source": [
    "This plot shows that the more hours you play the more likely you are to subscribe to a game related newsletter, but there isn't a clear trend on the relationships between the number of hours played on the server and if the player is subscribed to a game related newsletter.  We chose a bar graph because we are comparing a numerical variable (Hours Played), and the percentage of people who are subscribed to a newsletter, which is represented by the colour. \n",
    "\n",
    "When building our model and later testing it, we do expect that the model is pretty accurate but not very accurate as their is a clear trend with the age of the player and if they are subscribed to a game-related newsletter, but not as strong of a relationship between the hours played and subscrbtion habits. Because one of the two relationships isn't extremly clear through visaulizations, we expect the model to be accurate as there is a clear relationship between one predictor and the outcome but not as clear between the second predictor and the outcome. "
   ]
  },
  {
   "cell_type": "code",
   "execution_count": null,
   "id": "d1fe069f-a4b3-4a62-8d50-91232e0a7574",
   "metadata": {},
   "outputs": [],
   "source": [
    "set.seed(2025)\n",
    "#The seed ensures reproducability\n",
    "#Now we will build out model\n",
    "#Let's seperate the data into training and testing data sets\n",
    "players_split<-players|>\n",
    "initial_split(prop=0.6, strata=subscribe)\n",
    "players_train<-training(players_split)\n",
    "players_test<-testing(players_split)\n"
   ]
  },
  {
   "cell_type": "code",
   "execution_count": null,
   "id": "60c0f7ec-1c6a-4a43-aab8-07d18204b9eb",
   "metadata": {},
   "outputs": [],
   "source": [
    "set.seed(2025)\n",
    "#Build the model, initally use tune until the best k value is found. \n",
    "knn_tune<-nearest_neighbor(weight_func='rectangular',neighbors=tune())|>\n",
    "set_engine('kknn')|>\n",
    "set_mode('classification')\n",
    "\n",
    "players_recipe<-recipe(subscribe~Age+played_hours, data=players_train)|>\n",
    "step_center(all_predictors())|>\n",
    "step_scale(all_predictors())\n",
    "\n",
    "workflow<-workflow()|>\n",
    "add_recipe(players_recipe)|>\n",
    "add_model(knn_tune)\n",
    "\n",
    "players_vfold<-vfold_cv(players_train, v=5, strata=subscribe)\n",
    "\n",
    "players_table<-tibble(neighbors=seq(from=1, to=10, by=1))\n",
    "\n",
    "knn_results<-workflow|>\n",
    "tune_grid(resample=players_vfold, grid=players_table)|>\n",
    "collect_metrics()|>\n",
    "filter(.metric=='accuracy')\n",
    "\n",
    "cross_val_plot<-knn_results|>\n",
    "ggplot(aes(y=mean, x=neighbors))+\n",
    "geom_point()+\n",
    "geom_line()+\n",
    "labs(y=\"mean classification accuracy\", x=\"number of neighbours used in classification\")+\n",
    "ggtitle(\"Figure 4: K value vs mean accuracy\")+\n",
    "theme(text = element_text(size = 12))\n",
    "cross_val_plot\n"
   ]
  },
  {
   "cell_type": "markdown",
   "id": "961a8f97-bbf8-4b06-bc34-c2136aeb57e8",
   "metadata": {},
   "source": [
    "This plot shows that with the testing data only the highest accuracy knn that we get from the cross-validation with 5 folds is 9, with an accuracy of just under 65%, this is good for the training set, and now we rebuild our model with a neighbors value of k=9. We chose this as a line plot and a scatterplot so we wee easily able to visulaize the best k value that gave us the highest accuracy on the training set we made earlier. "
   ]
  },
  {
   "cell_type": "code",
   "execution_count": null,
   "id": "b2009b07-d852-47cb-87e8-f431adfe5c3e",
   "metadata": {},
   "outputs": [],
   "source": [
    "set.seed(2025)\n",
    "#build the model with k=9 to have the best accuracy\n",
    "players_knn<-nearest_neighbor(weight_func='rectangular', neighbors=9)|>\n",
    "set_mode('classification')|>\n",
    "set_engine('kknn')\n",
    "\n",
    "players_workflow<-workflow()|>\n",
    "add_recipe(players_recipe)|>\n",
    "add_model(players_knn)|>\n",
    "fit(data=players_train)\n"
   ]
  },
  {
   "cell_type": "markdown",
   "id": "9531524d-3c53-4446-97cd-0b598c74e774",
   "metadata": {},
   "source": [
    "### Results\n"
   ]
  },
  {
   "cell_type": "code",
   "execution_count": null,
   "id": "cae212eb-474a-4347-8dcf-e8ef1ab46f33",
   "metadata": {},
   "outputs": [],
   "source": [
    "players_results<-players_workflow|>\n",
    "predict(players_test)|> \n",
    "bind_cols(players_test)\n",
    "players_results\n"
   ]
  },
  {
   "cell_type": "code",
   "execution_count": null,
   "id": "23caee5d-a8a4-4eba-b52e-0d2dc909dfbc",
   "metadata": {},
   "outputs": [],
   "source": [
    "players_results_plot<-players_results|>\n",
    "ggplot(aes(x=.pred_class, fill=subscribe))+\n",
    "geom_bar()+\n",
    "xlab(\"Predicted Subscribtion habit based on Age and played hours\")+\n",
    "ylab(\"Number of people predicted with that habit\")+\n",
    "labs(fill=\"The person is subscribed to a game related newsletter\")+\n",
    "ggtitle(\"Figure 5: Prediction graph\")+\n",
    "theme(text = element_text(size = 12))\n",
    "players_results_plot\n"
   ]
  },
  {
   "cell_type": "markdown",
   "id": "8229bf3e-a0fa-4f2e-bb46-0a01ec4e8943",
   "metadata": {},
   "source": [
    "This plot shows that the model predicted a person to subscribe to a newsletter more often than a person not subscribing to a newsletter, and while that prediction was accurate for many people it over predicted this value. When predicting that a person wouldn't subscribe to a game-related newsletter, the model predicted that the player wouldn't when most of the time they would, only a small number of predictions that were \"FALSE\" were in reality actually \"FALSE\". "
   ]
  },
  {
   "cell_type": "code",
   "execution_count": null,
   "id": "6fe3923f-9748-44db-a292-d7163de0ab93",
   "metadata": {},
   "outputs": [],
   "source": [
    "set.seed(2025)\n",
    "#test the model to see if it is accurate with the testing data\n",
    "knn_accuracy<-players_results|>\n",
    "metrics(truth=subscribe, estimate=.pred_class)|>\n",
    "filter(.metric==\"accuracy\")|>\n",
    "pull()\n",
    "\n",
    "knn_accuracy\n"
   ]
  },
  {
   "cell_type": "markdown",
   "id": "dacf626c-cf3a-4e18-809e-5073545e73ca",
   "metadata": {},
   "source": [
    "The accuracy of our model is 57.69%. This demonstrates that there is a slight correlation between the number of hours played and the age of player in relation to if they are subscribed to a game related newsletter, but their isn't a strong relationship between the two predictors and what we were predicting. "
   ]
  },
  {
   "cell_type": "markdown",
   "id": "c2f00dfb-5000-4e98-b639-0295e8d4910e",
   "metadata": {},
   "source": [
    "### Discussion\n"
   ]
  },
  {
   "cell_type": "markdown",
   "id": "59e5d51d-4bd3-4fd8-b66d-2000b115a462",
   "metadata": {},
   "source": [
    "In this project, we explored if data concerning a Minecraft server player's age and number of played hours is able to predict if they would be subscribed to the game-related newsletter. In our exploration, we found the age range of players to be from 8 to 50, with a mean of 20.5. Additionally, we discovered that the average number of hours played was 5.9, but there was a large range, with the maximum number of hours being 223.1. In our initial exploration, there appeared to be no direct correlation between the amount of hours played on the server along with the player's age to their subscription habits to a game-related newsletter. However, there was some correlation between age and subscription habits (younger players were more likely to subscribe). Initial graphs also suggested that players who subscribed had a higher number of hours played. \n",
    "\n",
    "Considering these initial trends, we used K-Nearest Neighbour classifcation to investigate this relationship further. Our cross-validation results suggest that the best K value to use was k=9, which provided a 65% classifcation accuracy (which is suffcient for a training set). We then evaluated the training set performance with the test set. The final test accuracy was 57.69%, as mentioned above. This suggests that there is a slight correlation between the number of hours played and the age of the player concerning whether they are subscribed to a game-related newsletter, but there isn't a strong relationship between the two predictors and what we were predicting. This does answer our question, because it demonstrates that there is some correlation between age, played hours and suscription habits, there in our model there was not significant correlation idetified. \n",
    "\n",
    "These results were somewhat expected because, based on our initial exploration showed a slight correlation between the individual predictors and if they were subscribed. The overall predictive accuracy was quite low, considering our earlier visualizations, as they indicated that the two variables are not reliable predictions. In the future, as age and hours played were not reliable predictors, we could explore additional features that identify a player's interest in the magazine in order to eventually make a model that could successfully predict magazine subscribers, making it easier to identify the magazine's target audience and create marketing strategies. \n",
    "\n",
    "There are some limitations to our model. The size of the data set is a limitation because when it is split there is a limited number of points. This causes the model to ber less accurate as the K-value is working off a limited number of values. This could be improved by having a larger data set from the minecraft server. This would our model because more data would lead to a more accurate prediction as the k value has more values to work off of, through this process a clear trend may establish itself. "
   ]
  },
  {
   "cell_type": "code",
   "execution_count": null,
   "id": "740d11af-6db9-4280-92c3-8e4c3aaebd80",
   "metadata": {},
   "outputs": [],
   "source": []
  }
 ],
 "metadata": {
  "kernelspec": {
   "display_name": "R",
   "language": "R",
   "name": "ir"
  },
  "language_info": {
   "codemirror_mode": "r",
   "file_extension": ".r",
   "mimetype": "text/x-r-source",
   "name": "R",
   "pygments_lexer": "r",
   "version": "4.3.3"
  }
 },
 "nbformat": 4,
 "nbformat_minor": 5
}
